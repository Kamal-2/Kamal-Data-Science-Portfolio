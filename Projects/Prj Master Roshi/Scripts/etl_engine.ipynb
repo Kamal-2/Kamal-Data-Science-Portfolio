{
 "cells": [
  {
   "cell_type": "markdown",
   "id": "0693c80d",
   "metadata": {},
   "source": [
    "# Project Master Roshi"
   ]
  },
  {
   "cell_type": "code",
   "execution_count": 2,
   "id": "4c5532a5",
   "metadata": {},
   "outputs": [],
   "source": [
    "import pandas as pd\n",
    "import os\n",
    "from datetime import datetime"
   ]
  },
  {
   "cell_type": "markdown",
   "id": "80f2f1df",
   "metadata": {},
   "source": [
    "Setting up the Path configurations through relative searches"
   ]
  },
  {
   "cell_type": "code",
   "execution_count": 14,
   "id": "971fd3d0",
   "metadata": {},
   "outputs": [],
   "source": [
    "    employees_data = {\n",
    "        \"ACF2_ID\": [\n",
    "            \"TEST001\",\n",
    "            \"TEST002\",\n",
    "            \"TEST003\",\n",
    "        ],\n",
    "        \"First_Name\": [\"John\", \"Jane\", \"Bob\"],\n",
    "        \"Last_Name\": [\"Doe\", \"Smith\", \"Johnson\"],\n",
    "        \"Team\": [\"STMT\", \"PAYT\", \"PAYT\"],\n",
    "        \"Status\": [\"Active\", \"Active\", \"Active\"],\n",
    "    }\n",
    "    employees_df = pd.DataFrame(employees_data)"
   ]
  },
  {
   "cell_type": "code",
   "execution_count": 10,
   "id": "cd481d2f",
   "metadata": {},
   "outputs": [
    {
     "name": "stdout",
     "output_type": "stream",
     "text": [
      "<class 'pandas.core.frame.DataFrame'>\n",
      "RangeIndex: 3 entries, 0 to 2\n",
      "Data columns (total 5 columns):\n",
      " #   Column      Non-Null Count  Dtype \n",
      "---  ------      --------------  ----- \n",
      " 0   ACF2_ID     3 non-null      object\n",
      " 1   First_Name  3 non-null      object\n",
      " 2   Last_Name   3 non-null      object\n",
      " 3   Team        3 non-null      object\n",
      " 4   Status      3 non-null      object\n",
      "dtypes: object(5)\n",
      "memory usage: 252.0+ bytes\n"
     ]
    }
   ],
   "source": [
    "employees_df.info()"
   ]
  },
  {
   "cell_type": "code",
   "execution_count": null,
   "id": "c7ef82fc",
   "metadata": {},
   "outputs": [],
   "source": []
  }
 ],
 "metadata": {
  "kernelspec": {
   "display_name": "base",
   "language": "python",
   "name": "python3"
  },
  "language_info": {
   "codemirror_mode": {
    "name": "ipython",
    "version": 3
   },
   "file_extension": ".py",
   "mimetype": "text/x-python",
   "name": "python",
   "nbconvert_exporter": "python",
   "pygments_lexer": "ipython3",
   "version": "3.12.7"
  }
 },
 "nbformat": 4,
 "nbformat_minor": 5
}
